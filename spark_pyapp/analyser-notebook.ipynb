{
 "cells": [
  {
   "cell_type": "code",
   "execution_count": 1,
   "metadata": {},
   "outputs": [],
   "source": [
    "import findspark\n",
    "findspark.init()\n",
    "import time\n",
    "from sys import argv\n",
    "from batch_process.processimpls.surveyprocess import run_batch_process\n",
    "from batch_process.helpers.config import config\n",
    "from batch_process.helpers.ioutil import download_data, put_file_in_hdfs\n",
    "from batch_process.helpers.sparkutil import SparkUtil\n",
    "from batch_process.constants.module_constants import ModuleConstants"
   ]
  },
  {
   "cell_type": "code",
   "execution_count": 3,
   "metadata": {},
   "outputs": [
    {
     "name": "stdout",
     "output_type": "stream",
     "text": [
      "hdfs://localhost:9000/data_1586603917417.csv\n",
      "Running shell command: hdfs dfs -put C:\\\\Users\\\\veera\\\\Desktop\\\\csv\\\\data.csv hdfs://localhost:9000/data_1586603917417.csv\n",
      "0 b'' b''\n",
      "+--------+\n",
      "|count(1)|\n",
      "+--------+\n",
      "|    9180|\n",
      "+--------+\n",
      "\n",
      "running query :: select 'ALL' AS category,questionid,yearstart AS year,avg(data_value) AS avarage from servay2020 group by questionid,yearstart order by questionid,yearstart  , storing results in :: servay_analysis_all_results\n",
      "+--------+----------+----+------------------+\n",
      "|category|questionid|year|           avarage|\n",
      "+--------+----------+----+------------------+\n",
      "|     ALL|      Q040|2008| 16.37172413793103|\n",
      "|     ALL|      Q040|2010|16.231841652323595|\n",
      "|     ALL|      Q040|2012|15.599483648881238|\n",
      "|     ALL|      Q040|2014|15.436269430051802|\n",
      "|     ALL|      Q040|2016|15.148615916955029|\n",
      "|     ALL|      Q041|2008|14.983793103448296|\n",
      "|     ALL|      Q041|2010|15.064716006884682|\n",
      "|     ALL|      Q041|2012|14.276592082616187|\n",
      "|     ALL|      Q041|2014|13.943350604490504|\n",
      "|     ALL|      Q041|2016| 13.53235294117647|\n",
      "|     ALL|      Q060|2008|13.218181818181813|\n",
      "|     ALL|      Q060|2010|13.046984126984121|\n",
      "|     ALL|      Q060|2012|11.963057324840753|\n",
      "|     ALL|      Q060|2014|11.450638977635784|\n",
      "|     ALL|      Q060|2016|11.577635782747599|\n",
      "+--------+----------+----+------------------+\n",
      "\n",
      "running query :: select 'FEMALE' AS category,questionid,yearstart AS year,avg(data_value) AS avarage from servay2020 where gender ='Female' group by questionid,yearstart order by questionid,yearstart , storing results in :: servay_analysis_female_results\n",
      "+--------+----------+----+------------------+\n",
      "|category|questionid|year|           avarage|\n",
      "+--------+----------+----+------------------+\n",
      "|  FEMALE|      Q040|2008|  16.2962962962963|\n",
      "|  FEMALE|      Q040|2010| 16.23518518518518|\n",
      "|  FEMALE|      Q040|2012|15.648148148148145|\n",
      "|  FEMALE|      Q040|2014|15.411111111111113|\n",
      "|  FEMALE|      Q040|2016| 15.39259259259259|\n",
      "|  FEMALE|      Q041|2008| 13.91666666666667|\n",
      "|  FEMALE|      Q041|2010|14.161111111111111|\n",
      "|  FEMALE|      Q041|2012|13.594444444444445|\n",
      "|  FEMALE|      Q041|2014|13.198148148148144|\n",
      "|  FEMALE|      Q041|2016|12.957407407407413|\n",
      "|  FEMALE|      Q060|2008| 12.72962962962963|\n",
      "|  FEMALE|      Q060|2010| 12.38148148148148|\n",
      "|  FEMALE|      Q060|2012|11.264814814814816|\n",
      "|  FEMALE|      Q060|2014|10.725925925925926|\n",
      "|  FEMALE|      Q060|2016|10.996296296296292|\n",
      "+--------+----------+----+------------------+\n",
      "\n"
     ]
    }
   ],
   "source": [
    "run_batch_process('https://chronicdata.cdc.gov/views/735e-byxc/rows.csv?accessType=DOWNLOAD')"
   ]
  },
  {
   "cell_type": "code",
   "execution_count": null,
   "metadata": {},
   "outputs": [],
   "source": []
  },
  {
   "cell_type": "code",
   "execution_count": null,
   "metadata": {},
   "outputs": [],
   "source": []
  }
 ],
 "metadata": {
  "kernelspec": {
   "display_name": "Python 3",
   "language": "python",
   "name": "python3"
  },
  "language_info": {
   "codemirror_mode": {
    "name": "ipython",
    "version": 3
   },
   "file_extension": ".py",
   "mimetype": "text/x-python",
   "name": "python",
   "nbconvert_exporter": "python",
   "pygments_lexer": "ipython3",
   "version": "3.7.6"
  }
 },
 "nbformat": 4,
 "nbformat_minor": 4
}
